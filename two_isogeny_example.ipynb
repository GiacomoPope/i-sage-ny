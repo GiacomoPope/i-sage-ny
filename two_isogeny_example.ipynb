{
 "cells": [
  {
   "cell_type": "markdown",
   "id": "cea184ba",
   "metadata": {},
   "source": [
    "## Part One: Searching for Two Isogenies\n",
    "\n",
    "**Note: due to the context of this being explained during Sage days, I assume you are all running the most up to date version of SageMath at the time of writing (version 10.2)**\n",
    "\n",
    "In the following we will work over the field $\\mathbb{F}_{p^2}$ with $p = 45319$ and $i^2 = -1$ and consider the following curves:\n",
    "\n",
    "$$\n",
    "E_1 : y^2 = x^3 + 11x + 14i, \\quad E_2 : y^2 = x^{3} + 2647 x + 4519 i \n",
    "$$\n",
    "\n",
    "These two curves are two isogenous. We are going to use Sage to explore this statement and look at various ways we can look at the unknown degree two isogeny between them.\n",
    "\n",
    "### First Steps: Define what we know\n",
    "\n",
    "First up, let's take the information above and code this in Sage. First we will need to construct the field $\\mathbb{F}_{p^2}$ and then from this, the curves themselves. "
   ]
  },
  {
   "cell_type": "code",
   "execution_count": 28,
   "id": "ac0ae9ff",
   "metadata": {},
   "outputs": [
    {
     "name": "stdout",
     "output_type": "stream",
     "text": [
      "F = Finite Field in i of size 45319^2\n",
      "E1 = Elliptic Curve defined by y^2 = x^3 + 11*x + 14*i over Finite Field in i of size 45319^2\n",
      "E2 = Elliptic Curve defined by y^2 = x^3 + 2647*x + 4519*i over Finite Field in i of size 45319^2\n"
     ]
    }
   ],
   "source": [
    "p = 45319\n",
    "F = GF(p^2, name=\"i\", modulus=x^2 + 1)\n",
    "i = F.gen()\n",
    "E1 = EllipticCurve(F, [11, 14*i])\n",
    "E2 = EllipticCurve(F, [2647, 4519*i])\n",
    "\n",
    "print(f\"{F = }\")\n",
    "print(f\"{E1 = }\")\n",
    "print(f\"{E2 = }\")"
   ]
  },
  {
   "cell_type": "markdown",
   "id": "d9af4e58",
   "metadata": {},
   "source": [
    "### Showing Curves are Isogenous\n",
    "\n",
    "Before finding the isogeny itself, let us convince ourselves that these isogenies are in fact isogenous. First lets compute the order of each curve:"
   ]
  },
  {
   "cell_type": "code",
   "execution_count": 29,
   "id": "ebf807e8",
   "metadata": {},
   "outputs": [
    {
     "name": "stdout",
     "output_type": "stream",
     "text": [
      "E1.order() = 2053902400\n",
      "E2.order() = 2053902400\n"
     ]
    }
   ],
   "source": [
    "print(f\"{E1.order() = }\")\n",
    "print(f\"{E2.order() = }\")"
   ]
  },
  {
   "cell_type": "markdown",
   "id": "bb981a7f",
   "metadata": {},
   "source": [
    "The orders match! Things are looking good. In fact, Sage even has the following function:"
   ]
  },
  {
   "cell_type": "code",
   "execution_count": 30,
   "id": "9ff3b8d8",
   "metadata": {
    "scrolled": true
   },
   "outputs": [
    {
     "data": {
      "text/plain": [
       "True"
      ]
     },
     "execution_count": 30,
     "metadata": {},
     "output_type": "execute_result"
    }
   ],
   "source": [
    "E1.is_isogenous(E2)"
   ]
  },
  {
   "cell_type": "markdown",
   "id": "b7b9d306",
   "metadata": {},
   "source": [
    "### Showing Curves are 2-Isogenous\n",
    "\n",
    "To show that these curves are two isogenous, let's look at the modular polynomials. This first means that we must compute the j-invariant of each curve which is done with a simple call:"
   ]
  },
  {
   "cell_type": "code",
   "execution_count": 31,
   "id": "c91b861e",
   "metadata": {},
   "outputs": [
    {
     "name": "stdout",
     "output_type": "stream",
     "text": [
      "j1 = 15582\n",
      "j2 = 23977\n"
     ]
    }
   ],
   "source": [
    "j1 = E1.j_invariant()\n",
    "j2 = E2.j_invariant()\n",
    "print(f\"{j1 = }\")\n",
    "print(f\"{j2 = }\")"
   ]
  },
  {
   "cell_type": "markdown",
   "id": "218ac355",
   "metadata": {},
   "source": [
    "### Aside: how to install modular polynomials\n",
    "\n",
    "The modular polynomials themselves are not quite easily available (this should come in 10.3), but we can install what we need easily.\n",
    "\n",
    "First, from your terminal type the following:\n",
    "\n",
    "```bash\n",
    "sage -i kohel_database\n",
    "```\n",
    "\n",
    "You should see a lot of output which ends with\n",
    "\n",
    "```\n",
    "[sagelib-10.2] real\t0m22.519s\n",
    "[sagelib-10.2] user\t0m15.029s\n",
    "[sagelib-10.2] sys\t0m5.821s\n",
    "\n",
    "real\t0m28.477s\n",
    "user\t0m18.791s\n",
    "sys\t0m7.028s\n",
    "Sage build/upgrade complete!\n",
    "```\n",
    "\n",
    "Then, you should be able to access the modular polynomials with the following commands"
   ]
  },
  {
   "cell_type": "markdown",
   "id": "b96aca6a",
   "metadata": {},
   "source": [
    "### Showing Curves are 2-Isogenous with Modular Polynomials"
   ]
  },
  {
   "cell_type": "code",
   "execution_count": 32,
   "id": "100ff770",
   "metadata": {},
   "outputs": [
    {
     "name": "stdout",
     "output_type": "stream",
     "text": [
      "PHI_2 = -j0^2*j1^2 + j0^3 + 1488*j0^2*j1 + 1488*j0*j1^2 + j1^3 - 162000*j0^2 + 40773375*j0*j1 - 162000*j1^2 + 8748000000*j0 + 8748000000*j1 - 157464000000000\n",
      "\n",
      "PHI_3 = -j0^3*j1^3 + 2232*j0^3*j1^2 + 2232*j0^2*j1^3 + j0^4 - 1069956*j0^3*j1 + 2587918086*j0^2*j1^2 - 1069956*j0*j1^3 + j1^4 + 36864000*j0^3 + 8900222976000*j0^2*j1 + 8900222976000*j0*j1^2 + 36864000*j1^3 + 452984832000000*j0^2 - 770845966336000000*j0*j1 + 452984832000000*j1^2 + 1855425871872000000000*j0 + 1855425871872000000000*j1\n"
     ]
    }
   ],
   "source": [
    "PHI = ClassicalModularPolynomialDatabase()\n",
    "PHI_2 = PHI[2]\n",
    "PHI_3 = PHI[3]\n",
    "print(f\"{PHI_2 = }\\n\")\n",
    "print(f\"{PHI_3 = }\")"
   ]
  },
  {
   "cell_type": "markdown",
   "id": "f401ab77",
   "metadata": {},
   "source": [
    "Now we can look at whether the j-invariants $j_1$ and $j_2$ are roots of the polynomials:"
   ]
  },
  {
   "cell_type": "code",
   "execution_count": 33,
   "id": "7211364f",
   "metadata": {},
   "outputs": [
    {
     "name": "stdout",
     "output_type": "stream",
     "text": [
      "PHI_2(j0=j1, j1=j2) = 0\n",
      "PHI_3(j0=j1, j1=j2) = 43569\n"
     ]
    }
   ],
   "source": [
    "print(f\"{PHI_2(j0=j1, j1=j2) = }\")\n",
    "print(f\"{PHI_3(j0=j1, j1=j2) = }\")"
   ]
  },
  {
   "cell_type": "markdown",
   "id": "2b5177da",
   "metadata": {},
   "source": [
    "We see that as $\\Phi_2(j_1, j_2) = 0$ then $E_1$ and $E_2$ are 2-isogenous but as $\\Phi_3(j_1, j_2) \\neq 0$, they are not 3-isogenous.\n",
    "\n",
    "### Computing Points of Order Two\n",
    "\n",
    "Now we know that our curves are two isogenous, we can attempt to find a kernel generator. To begin this, let's look at how we can find points of order two. Sage allows the computation of the abelian group with the following call"
   ]
  },
  {
   "cell_type": "code",
   "execution_count": 34,
   "id": "96fb34de",
   "metadata": {},
   "outputs": [
    {
     "data": {
      "text/plain": [
       "Additive abelian group isomorphic to Z/45320 + Z/45320 embedded in Abelian group of points on Elliptic Curve defined by y^2 = x^3 + 11*x + 14*i over Finite Field in i of size 45319^2"
      ]
     },
     "execution_count": 34,
     "metadata": {},
     "output_type": "execute_result"
    }
   ],
   "source": [
    "E1.abelian_group()"
   ]
  },
  {
   "cell_type": "markdown",
   "id": "256a9783",
   "metadata": {},
   "source": [
    "and the generators of this group can be computed from:"
   ]
  },
  {
   "cell_type": "code",
   "execution_count": 35,
   "id": "db102dfb",
   "metadata": {
    "scrolled": true
   },
   "outputs": [
    {
     "name": "stdout",
     "output_type": "stream",
     "text": [
      "P = (25823*i + 26493 : 16791*i + 43387 : 1), P.order() = 45320\n",
      "Q = (17654*i + 37137 : 30926*i + 16151 : 1), Q.order() = 45320\n"
     ]
    }
   ],
   "source": [
    "P, Q = E1.gens()\n",
    "print(f\"{P = }, {P.order() = }\")\n",
    "print(f\"{Q = }, {Q.order() = }\")"
   ]
  },
  {
   "cell_type": "markdown",
   "id": "f8b226a7",
   "metadata": {},
   "source": [
    "From these generators, points of order two can be computed from:"
   ]
  },
  {
   "cell_type": "code",
   "execution_count": 36,
   "id": "07003eba",
   "metadata": {},
   "outputs": [
    {
     "name": "stdout",
     "output_type": "stream",
     "text": [
      "P2 = (9150*i : 0 : 1), P2.order() = 2\n",
      "Q2 = (45317*i : 0 : 1), Q2.order() = 2\n",
      "R2 = (36171*i : 0 : 1), R2.order() = 2\n"
     ]
    }
   ],
   "source": [
    "P2 = (45320 // 2) * P\n",
    "Q2 = (45320 // 2) * Q\n",
    "R2 = P2 + Q2\n",
    "\n",
    "print(f\"{P2 = }, {P2.order() = }\")\n",
    "print(f\"{Q2 = }, {Q2.order() = }\")\n",
    "print(f\"{R2 = }, {R2.order() = }\")"
   ]
  },
  {
   "cell_type": "markdown",
   "id": "722efd75",
   "metadata": {},
   "source": [
    "Another way of computing these is from finding the roots of the division polynomial:"
   ]
  },
  {
   "cell_type": "code",
   "execution_count": 37,
   "id": "6316f414",
   "metadata": {},
   "outputs": [
    {
     "name": "stdout",
     "output_type": "stream",
     "text": [
      "xs = [45317*i, 36171*i, 9150*i]\n"
     ]
    }
   ],
   "source": [
    "psi = E1.division_polynomial(2)\n",
    "xs = psi.roots(multiplicities=False)\n",
    "print(f\"{xs = }\")"
   ]
  },
  {
   "cell_type": "markdown",
   "id": "fbb6c7bd",
   "metadata": {},
   "source": [
    "Points can be computed from an x-coordinate by lifting them onto the curve:"
   ]
  },
  {
   "cell_type": "code",
   "execution_count": 38,
   "id": "7327f470",
   "metadata": {},
   "outputs": [
    {
     "name": "stdout",
     "output_type": "stream",
     "text": [
      "E1.lift_x(x1) = (45317*i : 0 : 1) \n",
      "E1.lift_x(x2) = (36171*i : 0 : 1) \n",
      "E1.lift_x(x3) = (9150*i : 0 : 1) \n"
     ]
    }
   ],
   "source": [
    "x1, x2, x3 = xs\n",
    "print(f\"{E1.lift_x(x1) = } \")\n",
    "print(f\"{E1.lift_x(x2) = } \")\n",
    "print(f\"{E1.lift_x(x3) = } \")"
   ]
  },
  {
   "cell_type": "markdown",
   "id": "6aed3234",
   "metadata": {},
   "source": [
    "### Computing 2-isogenies\n",
    "\n",
    "Given the points of order two computed above, we can compute an isogeny from these points with the following calls:"
   ]
  },
  {
   "cell_type": "code",
   "execution_count": 39,
   "id": "77a89d2d",
   "metadata": {},
   "outputs": [
    {
     "name": "stdout",
     "output_type": "stream",
     "text": [
      "phi_P = Isogeny of degree 2 from Elliptic Curve defined by y^2 = x^3 + 11*x + 14*i over Finite Field in i of size 45319^2 to Elliptic Curve defined by y^2 = x^3 + 2647*x + 4519*i over Finite Field in i of size 45319^2\n",
      "\n",
      "phi_Q = Isogeny of degree 2 from Elliptic Curve defined by y^2 = x^3 + 11*x + 14*i over Finite Field in i of size 45319^2 to Elliptic Curve defined by y^2 = x^3 + 16*x over Finite Field in i of size 45319^2\n",
      "\n",
      "phi_R = Isogeny of degree 2 from Elliptic Curve defined by y^2 = x^3 + 11*x + 14*i over Finite Field in i of size 45319^2 to Elliptic Curve defined by y^2 = x^3 + 42854*x + 41724*i over Finite Field in i of size 45319^2\n",
      "\n"
     ]
    }
   ],
   "source": [
    "phi_P = E1.isogeny(P2)\n",
    "phi_Q = E1.isogeny(Q2)\n",
    "phi_R = E1.isogeny(R2)\n",
    "\n",
    "print(f\"{phi_P = }\\n\")\n",
    "print(f\"{phi_Q = }\\n\")\n",
    "print(f\"{phi_R = }\\n\")"
   ]
  },
  {
   "cell_type": "markdown",
   "id": "2cdedf69",
   "metadata": {},
   "source": [
    "We can access the codomain of these isogenies with the `.codomain()` function. The question is are any of the above codomains isomorphic to the starting curve $E_2$."
   ]
  },
  {
   "cell_type": "code",
   "execution_count": 40,
   "id": "b6f208eb",
   "metadata": {},
   "outputs": [
    {
     "name": "stdout",
     "output_type": "stream",
     "text": [
      "E2.is_isomorphic(EP) = True\n",
      "E2.is_isomorphic(EQ) = False\n",
      "E2.is_isomorphic(ER) = False\n"
     ]
    }
   ],
   "source": [
    "EP = phi_P.codomain()\n",
    "EQ = phi_Q.codomain()\n",
    "ER = phi_R.codomain()\n",
    "\n",
    "print(f\"{E2.is_isomorphic(EP) = }\")\n",
    "print(f\"{E2.is_isomorphic(EQ) = }\")\n",
    "print(f\"{E2.is_isomorphic(ER) = }\")"
   ]
  },
  {
   "cell_type": "markdown",
   "id": "1ad44088",
   "metadata": {},
   "source": [
    "We have found that the point $P_2$ generates the unknown isogeny linking $E_1$ and $E_2$!\n",
    "\n",
    "### An Alternative Method"
   ]
  },
  {
   "cell_type": "markdown",
   "id": "87f09e01",
   "metadata": {},
   "source": [
    "Another way to enumerate prime degree isogenies is available to us, which does all the work we did above in a single call"
   ]
  },
  {
   "cell_type": "code",
   "execution_count": 41,
   "id": "cdcfd511",
   "metadata": {
    "scrolled": false
   },
   "outputs": [
    {
     "data": {
      "text/plain": [
       "[Isogeny of degree 2 from Elliptic Curve defined by y^2 = x^3 + 11*x + 14*i over Finite Field in i of size 45319^2 to Elliptic Curve defined by y^2 = x^3 + 2647*x + 4519*i over Finite Field in i of size 45319^2,\n",
       " Isogeny of degree 2 from Elliptic Curve defined by y^2 = x^3 + 11*x + 14*i over Finite Field in i of size 45319^2 to Elliptic Curve defined by y^2 = x^3 + 42854*x + 41724*i over Finite Field in i of size 45319^2,\n",
       " Isogeny of degree 2 from Elliptic Curve defined by y^2 = x^3 + 11*x + 14*i over Finite Field in i of size 45319^2 to Elliptic Curve defined by y^2 = x^3 + 16*x over Finite Field in i of size 45319^2]"
      ]
     },
     "execution_count": 41,
     "metadata": {},
     "output_type": "execute_result"
    }
   ],
   "source": [
    "E1.isogenies_prime_degree(2)"
   ]
  },
  {
   "cell_type": "markdown",
   "id": "e801aa4f",
   "metadata": {},
   "source": [
    "We could then do the same as the above by looping through these isogenies:"
   ]
  },
  {
   "cell_type": "code",
   "execution_count": 42,
   "id": "06f68988",
   "metadata": {},
   "outputs": [
    {
     "name": "stdout",
     "output_type": "stream",
     "text": [
      "kernel_poly = x + 36169*i\n"
     ]
    }
   ],
   "source": [
    "kernel_poly = None\n",
    "for phi in E1.isogenies_prime_degree(2):\n",
    "    E_test = phi.codomain()\n",
    "    if E2.is_isomorphic(E_test):\n",
    "        kernel_poly = phi.kernel_polynomial()\n",
    "        print(f\"{kernel_poly = }\")"
   ]
  },
  {
   "cell_type": "markdown",
   "id": "ca144deb",
   "metadata": {},
   "source": [
    "Using the kernel polynomial we can also compute this isogeny using Kohel's algorithm:"
   ]
  },
  {
   "cell_type": "code",
   "execution_count": 43,
   "id": "5aef61a3",
   "metadata": {
    "scrolled": true
   },
   "outputs": [
    {
     "data": {
      "text/plain": [
       "Isogeny of degree 2 from Elliptic Curve defined by y^2 = x^3 + 11*x + 14*i over Finite Field in i of size 45319^2 to Elliptic Curve defined by y^2 = x^3 + 2647*x + 4519*i over Finite Field in i of size 45319^2"
      ]
     },
     "execution_count": 43,
     "metadata": {},
     "output_type": "execute_result"
    }
   ],
   "source": [
    "E1.isogeny(kernel_poly)"
   ]
  },
  {
   "cell_type": "markdown",
   "id": "1a04c04e",
   "metadata": {},
   "source": [
    "### Computing the Isogeny\n",
    "\n",
    "Above we computed the isogeny up to isomorphism, but we can also compute the isomorphism itself to compute the precise isogeny we need. "
   ]
  },
  {
   "cell_type": "code",
   "execution_count": 44,
   "id": "7253384a",
   "metadata": {
    "scrolled": true
   },
   "outputs": [
    {
     "name": "stdout",
     "output_type": "stream",
     "text": [
      "E2 = Elliptic Curve defined by y^2 = x^3 + 2647*x + 4519*i over Finite Field in i of size 45319^2\n",
      "EP = Elliptic Curve defined by y^2 = x^3 + 2647*x + 4519*i over Finite Field in i of size 45319^2\n",
      "E2.is_isomorphic(EP) = True\n"
     ]
    },
    {
     "data": {
      "text/plain": [
       "Elliptic-curve endomorphism of Elliptic Curve defined by y^2 = x^3 + 2647*x + 4519*i over Finite Field in i of size 45319^2\n",
       "  Via:  (u,r,s,t) = (45318, 0, 0, 0)"
      ]
     },
     "execution_count": 44,
     "metadata": {},
     "output_type": "execute_result"
    }
   ],
   "source": [
    "print(f\"{E2 = }\")\n",
    "print(f\"{EP = }\")\n",
    "print(f\"{E2.is_isomorphic(EP) = }\")\n",
    "EP.isomorphism_to(E2)"
   ]
  },
  {
   "cell_type": "markdown",
   "id": "84482ec4",
   "metadata": {},
   "source": [
    "Now, to compute the isogeny we can compse $\\phi_P$ with the above isomorphism:"
   ]
  },
  {
   "cell_type": "code",
   "execution_count": 45,
   "id": "dffcf27f",
   "metadata": {},
   "outputs": [
    {
     "name": "stdout",
     "output_type": "stream",
     "text": [
      "phi = Isogeny of degree 2 from Elliptic Curve defined by y^2 = x^3 + 11*x + 14*i over Finite Field in i of size 45319^2 to Elliptic Curve defined by y^2 = x^3 + 2647*x + 4519*i over Finite Field in i of size 45319^2\n"
     ]
    }
   ],
   "source": [
    "iso = EP.isomorphism_to(E2)\n",
    "phi = iso * phi_P\n",
    "print(f\"{phi = }\")"
   ]
  },
  {
   "cell_type": "markdown",
   "id": "45c3616e",
   "metadata": {},
   "source": [
    "### Dual Isogeny\n",
    "\n",
    "Given the isogeny $\\phi : E_1 \\to E_2$ we can also compute the dual isogeny $\\hat{\\phi} : E_2 \\to E_1$ with a simple call:"
   ]
  },
  {
   "cell_type": "code",
   "execution_count": 46,
   "id": "aee137c5",
   "metadata": {
    "scrolled": true
   },
   "outputs": [
    {
     "data": {
      "text/plain": [
       "Isogeny of degree 2 from Elliptic Curve defined by y^2 = x^3 + 2647*x + 4519*i over Finite Field in i of size 45319^2 to Elliptic Curve defined by y^2 = x^3 + 11*x + 14*i over Finite Field in i of size 45319^2"
      ]
     },
     "execution_count": 46,
     "metadata": {},
     "output_type": "execute_result"
    }
   ],
   "source": [
    "phi_dual = phi.dual()\n",
    "phi_dual"
   ]
  },
  {
   "cell_type": "markdown",
   "id": "4098e2c6",
   "metadata": {},
   "source": [
    "## One Last Thing: Isogeny Algorithms\n",
    "\n",
    "Before jumping into the quaternion world, I want to show case some useful isogeny algorithms which currently exist in Sage. For more information, see the isogenies notebook."
   ]
  },
  {
   "cell_type": "code",
   "execution_count": 47,
   "id": "f08a7d84",
   "metadata": {},
   "outputs": [
    {
     "name": "stdout",
     "output_type": "stream",
     "text": [
      "E = Elliptic Curve defined by y^2 = x^3 + 6*x^2 + x over Finite Field in i of size 17915903^2\n",
      "P = (12772366*i + 5961474 : 5144390*i + 13478759 : 1)\n",
      "Q = (8260143*i + 518463 : 2768119*i + 4146976 : 1)\n"
     ]
    }
   ],
   "source": [
    "a, b = 13, 7\n",
    "p = 2^a * 3^b - 1\n",
    "F.<i> = GF(p**2, modulus=[1,0,1])\n",
    "\n",
    "E = EllipticCurve(F, [0, 6, 0, 1, 0])\n",
    "print(f\"{E = }\")\n",
    "P, Q = E.gens()\n",
    "print(f\"{P = }\")\n",
    "print(f\"{Q = }\")"
   ]
  },
  {
   "cell_type": "markdown",
   "id": "de044482",
   "metadata": {},
   "source": [
    "## Isogenies from Points\n",
    "\n",
    "Given a point $P$ on the elliptic curve $E$, the isogeny with kernel $\\phi = \\langle P \\rangle$ can be computed using Velu's formula with the simple call `E.isogeny(P)`. Here's an example with a point of order two:"
   ]
  },
  {
   "cell_type": "code",
   "execution_count": 48,
   "id": "13296519",
   "metadata": {},
   "outputs": [
    {
     "name": "stdout",
     "output_type": "stream",
     "text": [
      "Isogeny of degree 2 from Elliptic Curve defined by y^2 = x^3 + 6*x^2 + x over Finite Field in i of size 17915903^2 to Elliptic Curve defined by y^2 = x^3 + 6*x^2 + 17915899*x + 17915879 over Finite Field in i of size 17915903^2\n"
     ]
    }
   ],
   "source": [
    "P_2 = E(0,0)\n",
    "assert P_2.order() == 2\n",
    "phi = E.isogeny(P_2)\n",
    "print(phi)"
   ]
  },
  {
   "cell_type": "markdown",
   "id": "53170b03",
   "metadata": {},
   "source": [
    "Be cautious that the complexity here is $\\mathcal{O}(\\ell)$, so for large order points this can get slow. Notice that this function does not require the point to have smooth order."
   ]
  },
  {
   "cell_type": "code",
   "execution_count": 49,
   "id": "c11c57ff",
   "metadata": {},
   "outputs": [
    {
     "name": "stdout",
     "output_type": "stream",
     "text": [
      "CPU times: user 1.51 ms, sys: 1 µs, total: 1.51 ms\n",
      "Wall time: 1.52 ms\n",
      "18.8 ms ± 250 µs per loop (mean ± std. dev. of 7 runs, 10 loops each)\n"
     ]
    }
   ],
   "source": [
    "P_4 = P * (P.order() // 4)\n",
    "assert P_4.order() == 4\n",
    "%time E.isogeny(P_4)\n",
    "\n",
    "P_128 = P * (P.order() // 128)\n",
    "assert P_128.order() == 128\n",
    "%timeit E.isogeny(P_128)"
   ]
  },
  {
   "cell_type": "markdown",
   "id": "6408e150",
   "metadata": {},
   "source": [
    "We can also send in a list of points and compute the isogeny generated by them all. For example:\n"
   ]
  },
  {
   "cell_type": "code",
   "execution_count": 50,
   "id": "469c7e13",
   "metadata": {},
   "outputs": [
    {
     "data": {
      "text/plain": [
       "Isogeny of degree 6 from Elliptic Curve defined by y^2 = x^3 + 6*x^2 + x over Finite Field in i of size 17915903^2 to Elliptic Curve defined by y^2 = x^3 + 6*x^2 + 6364184*x + 13370478 over Finite Field in i of size 17915903^2"
      ]
     },
     "execution_count": 50,
     "metadata": {},
     "output_type": "execute_result"
    }
   ],
   "source": [
    "P_2 = (P.order() // 2) * P\n",
    "P_3 = (P.order() // 3) * P\n",
    "E.isogeny([P_2, P_3])"
   ]
  },
  {
   "cell_type": "markdown",
   "id": "2d7852ff",
   "metadata": {},
   "source": [
    "## Smooth Degree Isogenies\n",
    "\n",
    "Sage also has an inbuilt method for computing smooth degree isogenies via the `E.isogeny(K, algorithm=\"factored\")` method. We can use this again for any input, but if it's not smooth the slow down will happen on one of the Velu steps along the way."
   ]
  },
  {
   "cell_type": "code",
   "execution_count": 51,
   "id": "7495752b",
   "metadata": {},
   "outputs": [
    {
     "name": "stdout",
     "output_type": "stream",
     "text": [
      "18.8 ms ± 195 µs per loop (mean ± std. dev. of 7 runs, 10 loops each)\n",
      "6.3 ms ± 110 µs per loop (mean ± std. dev. of 7 runs, 100 loops each)\n"
     ]
    }
   ],
   "source": [
    "P_128 = P * (P.order() // 128)\n",
    "assert P_128.order() == 128\n",
    "%timeit E.isogeny(P_128)\n",
    "%timeit E.isogeny(P_128, algorithm=\"factored\")"
   ]
  },
  {
   "cell_type": "markdown",
   "id": "ca4d9f70",
   "metadata": {},
   "source": [
    "## Large Degree Isogenies\n",
    "\n",
    "For odd orders larger than `9`, we can also use the $\\sqrt{\\text{Velu}}$ algorithm. *Technically*, this should be faster at about $\\ell = 100$, but in practice because of the slowness of parts of the Polynomial Ring classes, we find the turning point is much closer to $\\ell = 1000$."
   ]
  },
  {
   "cell_type": "code",
   "execution_count": 52,
   "id": "3af515b7",
   "metadata": {},
   "outputs": [
    {
     "name": "stdout",
     "output_type": "stream",
     "text": [
      "321 ms ± 4.21 ms per loop (mean ± std. dev. of 7 runs, 1 loop each)\n",
      "55.1 ms ± 292 µs per loop (mean ± std. dev. of 7 runs, 10 loops each)\n"
     ]
    }
   ],
   "source": [
    "P_2187 = P * 2**13\n",
    "assert P_2187.order() == 2187\n",
    "%timeit E.isogeny(P_2187)\n",
    "%timeit E.isogeny(P_2187, algorithm=\"velusqrt\")"
   ]
  },
  {
   "cell_type": "markdown",
   "id": "62b0b318",
   "metadata": {},
   "source": [
    "**TODO**: Note that currently the \"factored\" algorithm does not use the \"velusqrt\" algorithm for isogenies of a certain degree, this could be something we could look at this week."
   ]
  }
 ],
 "metadata": {
  "kernelspec": {
   "display_name": "SageMath 10.2",
   "language": "sage",
   "name": "sagemath"
  },
  "language_info": {
   "codemirror_mode": {
    "name": "ipython",
    "version": 3
   },
   "file_extension": ".py",
   "mimetype": "text/x-python",
   "name": "python",
   "nbconvert_exporter": "python",
   "pygments_lexer": "ipython3",
   "version": "3.11.4"
  }
 },
 "nbformat": 4,
 "nbformat_minor": 5
}
