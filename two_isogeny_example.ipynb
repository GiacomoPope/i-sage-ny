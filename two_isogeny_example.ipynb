{
 "cells": [
  {
   "cell_type": "markdown",
   "id": "cea184ba",
   "metadata": {},
   "source": [
    "## Part One: Example\n",
    "\n",
    "In the following we will work over the field $\\mathbb{F}_{p^2}$ with $p = 45319$ and $i^2 = -1$ and consider the following curves:\n",
    "\n",
    "$$\n",
    "E_1 : y^2 = x^3 + 11x + 14i, \\quad E_2 : y^2 = x^{3} + 2647 x + 4519 i \n",
    "$$\n",
    "\n",
    "These two curves are two isogenous. We are going to use Sage to explore this statement and look at various ways we can look at the unknown degree two isogeny between them.\n",
    "\n",
    "### First Steps: Define what we know\n",
    "\n",
    "First up, let's take the information above and code this in Sage. First we will need to construct the field $\\mathbb{F}_{p^2}$ and then from this, the curves themselves. "
   ]
  },
  {
   "cell_type": "code",
   "execution_count": null,
   "id": "ac0ae9ff",
   "metadata": {},
   "outputs": [],
   "source": [
    "p = 45319\n",
    "F = GF(p^2, name=\"i\", modulus=x^2 + 1)\n",
    "i = F.gen()\n",
    "E1 = EllipticCurve(F, [11, 14*i])\n",
    "E2 = EllipticCurve(F, [2647, 4519*i])\n",
    "\n",
    "print(f\"{F = }\")\n",
    "print(f\"{E1 = }\")\n",
    "print(f\"{E2 = }\")"
   ]
  },
  {
   "cell_type": "markdown",
   "id": "d9af4e58",
   "metadata": {},
   "source": [
    "### Showing Curves are Isogenous\n",
    "\n",
    "Before finding the isogeny itself, let us convince ourselves that these isogenies are in fact isogenous. First lets compute the order of each curve:"
   ]
  },
  {
   "cell_type": "code",
   "execution_count": null,
   "id": "ebf807e8",
   "metadata": {},
   "outputs": [],
   "source": [
    "print(f\"{E1.order() = }\")\n",
    "print(f\"{E2.order() = }\")"
   ]
  },
  {
   "cell_type": "markdown",
   "id": "bb981a7f",
   "metadata": {},
   "source": [
    "The orders match! Things are looking good. In fact, Sage even has the following function:"
   ]
  },
  {
   "cell_type": "code",
   "execution_count": null,
   "id": "9ff3b8d8",
   "metadata": {
    "scrolled": true
   },
   "outputs": [],
   "source": [
    "E1.is_isogenous(E2)"
   ]
  },
  {
   "cell_type": "markdown",
   "id": "b7b9d306",
   "metadata": {},
   "source": [
    "### Showing Curves are 2-Isogenous\n",
    "\n",
    "To show that these curves are two isogenous, let's look at the modular polynomials. This first means that we must compute the j-invariant of each curve which is done with a simple call:"
   ]
  },
  {
   "cell_type": "code",
   "execution_count": null,
   "id": "c91b861e",
   "metadata": {},
   "outputs": [],
   "source": [
    "j1 = E1.j_invariant()\n",
    "j2 = E2.j_invariant()\n",
    "print(f\"{j1 = }\")\n",
    "print(f\"{j2 = }\")"
   ]
  },
  {
   "cell_type": "markdown",
   "id": "218ac355",
   "metadata": {},
   "source": [
    "### Aside: how to install modular polynomials\n",
    "\n",
    "The modular polynomials themselves are not quite easily available (this should come in 10.3), but we can install what we need easily.\n",
    "\n",
    "First, from your terminal type the following:\n",
    "\n",
    "```bash\n",
    "sage -i kohel_database\n",
    "```\n",
    "\n",
    "You should see a lot of output which ends with\n",
    "\n",
    "```\n",
    "[sagelib-10.2] real\t0m22.519s\n",
    "[sagelib-10.2] user\t0m15.029s\n",
    "[sagelib-10.2] sys\t0m5.821s\n",
    "\n",
    "real\t0m28.477s\n",
    "user\t0m18.791s\n",
    "sys\t0m7.028s\n",
    "Sage build/upgrade complete!\n",
    "```\n",
    "\n",
    "Then, you should be able to access the modular polynomials with the following commands"
   ]
  },
  {
   "cell_type": "code",
   "execution_count": null,
   "id": "100ff770",
   "metadata": {},
   "outputs": [],
   "source": [
    "PHI = ClassicalModularPolynomialDatabase()\n",
    "PHI_2 = PHI[2]\n",
    "PHI_3 = PHI[3]\n",
    "print(f\"{PHI_2 = }\\n\")\n",
    "print(f\"{PHI_3 = }\")"
   ]
  },
  {
   "cell_type": "markdown",
   "id": "f401ab77",
   "metadata": {},
   "source": [
    "Now we can look at whether the j-invariants $j_1$ and $j_2$ are roots of the polynomials:"
   ]
  },
  {
   "cell_type": "code",
   "execution_count": null,
   "id": "7211364f",
   "metadata": {},
   "outputs": [],
   "source": [
    "print(f\"{PHI_2(j0=j1, j1=j2) = }\")\n",
    "print(f\"{PHI_3(j0=j1, j1=j2) = }\")"
   ]
  },
  {
   "cell_type": "markdown",
   "id": "2b5177da",
   "metadata": {},
   "source": [
    "We see that as $\\Phi_2(j_1, j_2) = 0$ then $E_1$ and $E_2$ are 2-isogenous but as $\\Phi_3(j_1, j_2) \\neq 0$, they are not 3-isogenous.\n",
    "\n",
    "### Computing Points of Order Two\n",
    "\n",
    "Now we know that our curves are two isogenous, we can attempt to find a kernel generator. To begin this, let's look at how we can find points of order two. Sage allows the computation of the abelian group with the following call"
   ]
  },
  {
   "cell_type": "code",
   "execution_count": null,
   "id": "96fb34de",
   "metadata": {},
   "outputs": [],
   "source": [
    "E1.abelian_group()"
   ]
  },
  {
   "cell_type": "markdown",
   "id": "256a9783",
   "metadata": {},
   "source": [
    "and the generators of this group can be computed from:"
   ]
  },
  {
   "cell_type": "code",
   "execution_count": null,
   "id": "db102dfb",
   "metadata": {
    "scrolled": true
   },
   "outputs": [],
   "source": [
    "P, Q = E1.gens()\n",
    "print(f\"{P = }, {P.order() = }\")\n",
    "print(f\"{Q = }, {Q.order() = }\")"
   ]
  },
  {
   "cell_type": "markdown",
   "id": "f8b226a7",
   "metadata": {},
   "source": [
    "From these generators, points of order two can be computed from:"
   ]
  },
  {
   "cell_type": "code",
   "execution_count": null,
   "id": "07003eba",
   "metadata": {},
   "outputs": [],
   "source": [
    "P2 = (45320 // 2) * P\n",
    "Q2 = (45320 // 2) * Q\n",
    "R2 = P2 + Q2\n",
    "\n",
    "print(f\"{P2 = }, {P2.order() = }\")\n",
    "print(f\"{Q2 = }, {Q2.order() = }\")\n",
    "print(f\"{R2 = }, {R2.order() = }\")"
   ]
  },
  {
   "cell_type": "markdown",
   "id": "722efd75",
   "metadata": {},
   "source": [
    "Another way of computing these is from finding the roots of the division polynomial:"
   ]
  },
  {
   "cell_type": "code",
   "execution_count": null,
   "id": "6316f414",
   "metadata": {},
   "outputs": [],
   "source": [
    "psi = E1.division_polynomial(2)\n",
    "xs = psi.roots(multiplicities=False)\n",
    "print(f\"{xs = }\")"
   ]
  },
  {
   "cell_type": "markdown",
   "id": "fbb6c7bd",
   "metadata": {},
   "source": [
    "Points can be computed from an x-coordinate by lifting them onto the curve:"
   ]
  },
  {
   "cell_type": "code",
   "execution_count": null,
   "id": "7327f470",
   "metadata": {},
   "outputs": [],
   "source": [
    "x1, x2, x3 = xs\n",
    "print(f\"{E1.lift_x(x1) = } \")\n",
    "print(f\"{E1.lift_x(x2) = } \")\n",
    "print(f\"{E1.lift_x(x3) = } \")"
   ]
  },
  {
   "cell_type": "markdown",
   "id": "6aed3234",
   "metadata": {},
   "source": [
    "### Computing 2-isogenies\n",
    "\n",
    "Given the points of order two computed above, we can compute an isogeny from these points with the following calls:"
   ]
  },
  {
   "cell_type": "code",
   "execution_count": null,
   "id": "77a89d2d",
   "metadata": {},
   "outputs": [],
   "source": [
    "phi_P = E1.isogeny(P2)\n",
    "phi_Q = E1.isogeny(Q2)\n",
    "phi_R = E1.isogeny(R2)\n",
    "\n",
    "print(f\"{phi_P = }\\n\")\n",
    "print(f\"{phi_Q = }\\n\")\n",
    "print(f\"{phi_R = }\\n\")"
   ]
  },
  {
   "cell_type": "markdown",
   "id": "2cdedf69",
   "metadata": {},
   "source": [
    "We can access the codomain of these isogenies with the `.codomain()` function. The question is are any of the above codomains isomorphic to the starting curve $E_2$."
   ]
  },
  {
   "cell_type": "code",
   "execution_count": null,
   "id": "b6f208eb",
   "metadata": {},
   "outputs": [],
   "source": [
    "EP = phi_P.codomain()\n",
    "EQ = phi_Q.codomain()\n",
    "ER = phi_R.codomain()\n",
    "\n",
    "print(f\"{E2.is_isomorphic(EP) = }\")\n",
    "print(f\"{E2.is_isomorphic(EQ) = }\")\n",
    "print(f\"{E2.is_isomorphic(ER) = }\")"
   ]
  },
  {
   "cell_type": "markdown",
   "id": "1ad44088",
   "metadata": {},
   "source": [
    "We have found that the point $P_2$ generates the unknown isogeny linking $E_1$ and $E_2$!\n",
    "\n",
    "### An Alternative Method"
   ]
  },
  {
   "cell_type": "markdown",
   "id": "87f09e01",
   "metadata": {},
   "source": [
    "Another way to enumerate prime degree isogenies is available to us, which does all the work we did above in a single call"
   ]
  },
  {
   "cell_type": "code",
   "execution_count": null,
   "id": "cdcfd511",
   "metadata": {
    "scrolled": false
   },
   "outputs": [],
   "source": [
    "E1.isogenies_prime_degree(2)"
   ]
  },
  {
   "cell_type": "markdown",
   "id": "e801aa4f",
   "metadata": {},
   "source": [
    "We could then do the same as the above by looping through these isogenies:"
   ]
  },
  {
   "cell_type": "code",
   "execution_count": null,
   "id": "06f68988",
   "metadata": {},
   "outputs": [],
   "source": [
    "kernel_poly = None\n",
    "for phi in E1.isogenies_prime_degree(2):\n",
    "    E_test = phi.codomain()\n",
    "    if E2.is_isomorphic(E_test):\n",
    "        kernel_poly = phi.kernel_polynomial()\n",
    "        print(f\"{kernel_poly = }\")"
   ]
  },
  {
   "cell_type": "markdown",
   "id": "ca144deb",
   "metadata": {},
   "source": [
    "Using the kernel polynomial we can also compute this isogeny using Kohel's algorithm:"
   ]
  },
  {
   "cell_type": "code",
   "execution_count": null,
   "id": "5aef61a3",
   "metadata": {
    "scrolled": true
   },
   "outputs": [],
   "source": [
    "E1.isogeny(kernel_poly)"
   ]
  },
  {
   "cell_type": "markdown",
   "id": "1a04c04e",
   "metadata": {},
   "source": [
    "### Computing the Isogeny\n",
    "\n",
    "Above we computed the isogeny up to isomorphism, but we can also compute the isomorphism itself to compute the precise isogeny we need. "
   ]
  },
  {
   "cell_type": "code",
   "execution_count": null,
   "id": "7253384a",
   "metadata": {
    "scrolled": true
   },
   "outputs": [],
   "source": [
    "print(f\"{E2 = }\")\n",
    "print(f\"{EP = }\")\n",
    "print(f\"{E2.is_isomorphic(EP) = }\")\n",
    "EP.isomorphism_to(E2)"
   ]
  },
  {
   "cell_type": "markdown",
   "id": "84482ec4",
   "metadata": {},
   "source": [
    "Now, to compute the isogeny we can compse $\\phi_P$ with the above isomorphism:"
   ]
  },
  {
   "cell_type": "code",
   "execution_count": null,
   "id": "dffcf27f",
   "metadata": {},
   "outputs": [],
   "source": [
    "iso = EP.isomorphism_to(E2)\n",
    "phi = iso * phi_P\n",
    "print(f\"{phi = }\")"
   ]
  },
  {
   "cell_type": "markdown",
   "id": "45c3616e",
   "metadata": {},
   "source": [
    "### Dual Isogeny\n",
    "\n",
    "Given the isogeny $\\phi : E_1 \\to E_2$ we can also compute the dual isogeny $\\hat{\\phi} : E_2 \\to E_1$ with a simple call:"
   ]
  },
  {
   "cell_type": "code",
   "execution_count": null,
   "id": "aee137c5",
   "metadata": {},
   "outputs": [],
   "source": [
    "phi_dual = phi.dual()\n",
    "phi_dual"
   ]
  }
 ],
 "metadata": {
  "kernelspec": {
   "display_name": "SageMath 10.1",
   "language": "sage",
   "name": "SageMath-10.1"
  },
  "language_info": {
   "codemirror_mode": {
    "name": "ipython",
    "version": 3
   },
   "file_extension": ".py",
   "mimetype": "text/x-python",
   "name": "python",
   "nbconvert_exporter": "python",
   "pygments_lexer": "ipython3",
   "version": "3.11.1"
  }
 },
 "nbformat": 4,
 "nbformat_minor": 5
}
