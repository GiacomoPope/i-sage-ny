{
 "cells": [
  {
   "cell_type": "markdown",
   "id": "7752dfc5",
   "metadata": {},
   "source": [
    "# Quaternion Algebras\n",
    "\n",
    "TODO (Giacomo): this is something I'm not so good with. I never know if the maths I know always applies, or only for maximal orders, or only when $q = 1$ etc. If someone was going to help with various notebooks this is the one I need the most help with I think!"
   ]
  }
 ],
 "metadata": {
  "kernelspec": {
   "display_name": "SageMath 10.2",
   "language": "sage",
   "name": "sagemath"
  },
  "language_info": {
   "codemirror_mode": {
    "name": "ipython",
    "version": 3
   },
   "file_extension": ".py",
   "mimetype": "text/x-python",
   "name": "python",
   "nbconvert_exporter": "python",
   "pygments_lexer": "ipython3",
   "version": "3.11.4"
  }
 },
 "nbformat": 4,
 "nbformat_minor": 5
}
