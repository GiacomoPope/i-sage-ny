{
 "cells": [
  {
   "cell_type": "markdown",
   "id": "6a0f789d",
   "metadata": {},
   "source": [
    "# General Tips\n",
    "\n",
    "This notebook has a few extra tips and tricks which you might find useful when using and developing sagemath.\n",
    "\n",
    "## Tab Autocomplete\n",
    "\n",
    "Both the interactive shell and Jupyter notebooks allow for tab autocompletion. Try completing the definition of an elliptic curve below with tab autocompletion"
   ]
  },
  {
   "cell_type": "code",
   "execution_count": null,
   "id": "33879050",
   "metadata": {},
   "outputs": [],
   "source": [
    "F = Fini\n",
    "E = Ellipt\n",
    "P = E.ran"
   ]
  },
  {
   "cell_type": "markdown",
   "id": "7aee046a",
   "metadata": {},
   "source": [
    "## Documentation Lookup\n",
    "\n",
    "You can view documentation for a class or method by following a command with a `?`. To view the full source code, you can use the `??` command. Try the two lines below to see the difference between `?` and `??`. This works both in Jupyter notebooks and interactive Sage shells. Not only is this helpful for seeing how functions work, it also shows you in which file the function is defined which can help you find the right files to be working on when making changes to Sage."
   ]
  },
  {
   "cell_type": "code",
   "execution_count": 2,
   "id": "6dd698af",
   "metadata": {},
   "outputs": [],
   "source": [
    "E = EllipticCurve([1,2])\n",
    "E.division_polynomial?"
   ]
  },
  {
   "cell_type": "code",
   "execution_count": null,
   "id": "9e9bce65",
   "metadata": {},
   "outputs": [],
   "source": [
    "E = EllipticCurve([1,2])\n",
    "E.division_polynomial??"
   ]
  },
  {
   "cell_type": "markdown",
   "id": "e5521ae1",
   "metadata": {},
   "source": [
    "## SageMath / Python Differences\n",
    "\n",
    "Most of the time you can use SageMath and Python interchangably and you really don't need to worry, but every now and again SageMath redefines a Python thing and this can cause confusion.\n",
    "\n",
    "### Exponentiation and XOR\n",
    "\n",
    "The first example I can think of is `^` being interpreted as exponentiation rather than `xor`. This means you have:"
   ]
  },
  {
   "cell_type": "code",
   "execution_count": 3,
   "id": "1101c4c2",
   "metadata": {},
   "outputs": [],
   "source": [
    "assert 2**5 == 2^5"
   ]
  },
  {
   "cell_type": "markdown",
   "id": "da370379",
   "metadata": {},
   "source": [
    "To access `xor`, you now need to call `^^`. For example:"
   ]
  },
  {
   "cell_type": "code",
   "execution_count": 4,
   "id": "07531515",
   "metadata": {},
   "outputs": [],
   "source": [
    "assert 2^^2 == 0\n",
    "assert 1^^2 == 2^^1"
   ]
  },
  {
   "cell_type": "markdown",
   "id": "ec52fb08",
   "metadata": {},
   "source": [
    "### Integers and ints\n",
    "\n",
    "In python when you write `x = 1` the type of `x` is an `int`: a multiprecision big integer. If you're writing in the Sage shell, a Sage notebook or a `.sage` file, `x = 1` is preparsed to `x = Integer(1)` and `x` instead has the Sage type `Integer` which is a class with all sorts of helpful methods like `Integer(x).factor()` and the like.\n",
    "\n",
    "However, if you write python files (.py) and run them by calling `sage file.py` then this preparsing doesnt happen and `x` will be of type `int` which can break your code. This is particularly important to note as when developing sage code you will write python code and so to ensure you have an integer you may have to write `ZZ(x)` or `Integer(x)`."
   ]
  },
  {
   "cell_type": "markdown",
   "id": "412f76b5",
   "metadata": {},
   "source": [
    "### Sage Notation\n",
    "\n",
    "In some cases Sage has specific notation which cannot be included in a python file. As an example consider defining a field extension\n",
    "\n",
    "```py\n",
    "F.<i> = GF(p^2, modulus=x^2 + 1)\n",
    "```\n",
    "\n",
    "If you want to include this line in a `.py` file you need to change a few things. First the `^` needs to be swapped to `**` (see above). Next the `.<i>` notation will not be understood. You can name the generator using\n",
    "\n",
    "```py\n",
    "F = GF(p**2, name=\"i\", modulus=x^2 + 1)\n",
    "```\n",
    "\n",
    "but the generator is not available without a further call to `i = F.gen()`. Lastly, the modulus here is using `x` which in sage is a global symbolic variable. In python you wont have this. A workaround is to define the modulus using a list of coefficients. The following is valid python code for your work:\n",
    "\n",
    "```py\n",
    "# Sage only\n",
    "F.<i> = GF(p^2, modulus=x^2 + 1)\n",
    "\n",
    "# Equivalent python\n",
    "F = GF(p**2, name=\"i\", modulus=[1,0,1])\n",
    "i = F.gen()\n",
    "```\n",
    "\n",
    "Another way to do the same as the above is to call the `.objgen[s]()` method on the class, which constructs not only the field but also the generators. This also works for things like elliptic curves:"
   ]
  },
  {
   "cell_type": "code",
   "execution_count": 7,
   "id": "cd74d621",
   "metadata": {},
   "outputs": [
    {
     "name": "stdout",
     "output_type": "stream",
     "text": [
      "F = Finite Field in i of size 19^2\n",
      "i = i\n"
     ]
    }
   ],
   "source": [
    "F, i = GF(19**2, name=\"i\", modulus=[1,0,1]).objgen()\n",
    "print(f\"{F = }\")\n",
    "print(f\"{i = }\")"
   ]
  },
  {
   "cell_type": "code",
   "execution_count": 6,
   "id": "b90ec10e",
   "metadata": {},
   "outputs": [
    {
     "name": "stdout",
     "output_type": "stream",
     "text": [
      "E = Elliptic Curve defined by y^2 = x^3 + x over Finite Field in i of size 19^2\n",
      "P = (15*i + 3 : 9*i + 10 : 1)\n",
      "Q = (2*i + 17 : 4*i + 7 : 1)\n"
     ]
    }
   ],
   "source": [
    "F, i = GF(19**2, name=\"i\", modulus=[1,0,1]).objgen()\n",
    "E, (P, Q) = EllipticCurve(F, [1, 0]).objgens()\n",
    "print(f\"{E = }\")\n",
    "print(f\"{P = }\\n{Q = }\")"
   ]
  }
 ],
 "metadata": {
  "kernelspec": {
   "display_name": "SageMath 10.2",
   "language": "sage",
   "name": "sagemath"
  },
  "language_info": {
   "codemirror_mode": {
    "name": "ipython",
    "version": 3
   },
   "file_extension": ".py",
   "mimetype": "text/x-python",
   "name": "python",
   "nbconvert_exporter": "python",
   "pygments_lexer": "ipython3",
   "version": "3.11.4"
  }
 },
 "nbformat": 4,
 "nbformat_minor": 5
}
