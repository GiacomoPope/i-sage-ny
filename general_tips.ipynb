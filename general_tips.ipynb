{
 "cells": [
  {
   "cell_type": "markdown",
   "id": "6a0f789d",
   "metadata": {},
   "source": [
    "# General Tips\n",
    "\n",
    "This notebook has a few extra tips and tricks which you might find useful when using and developing sagemath.\n",
    "\n",
    "## Tab Autocomplete\n",
    "\n",
    "Both the interactive shell and Jupyter notebooks allow for tab autocompletion. Try completing the definition of an elliptic curve below with tab autocompletion"
   ]
  },
  {
   "cell_type": "code",
   "execution_count": null,
   "id": "33879050",
   "metadata": {},
   "outputs": [],
   "source": [
    "F = Fini\n",
    "E = Ellipt\n",
    "P = E.ran"
   ]
  },
  {
   "cell_type": "markdown",
   "id": "7aee046a",
   "metadata": {},
   "source": [
    "## Documentation Lookup\n",
    "\n",
    "You can view documentation for a class or method by following a command with a `?`. To view the full source code, you can use the `??` command. Try the two lines below to see the difference between `?` and `??`. This works both in Jupyter notebooks and interactive Sage shells. Not only is this helpful for seeing how functions work, it also shows you in which file the function is defined which can help you find the right files to be working on when making changes to Sage."
   ]
  },
  {
   "cell_type": "code",
   "execution_count": 2,
   "id": "6dd698af",
   "metadata": {},
   "outputs": [],
   "source": [
    "E = EllipticCurve([1,2])\n",
    "E.division_polynomial?"
   ]
  },
  {
   "cell_type": "code",
   "execution_count": null,
   "id": "9e9bce65",
   "metadata": {},
   "outputs": [],
   "source": [
    "E = EllipticCurve([1,2])\n",
    "E.division_polynomial??"
   ]
  },
  {
   "cell_type": "markdown",
   "id": "e5521ae1",
   "metadata": {},
   "source": [
    "## SageMath / Python Differences\n",
    "\n",
    "Most of the time you can use SageMath and Python interchangably and you really don't need to worry, but every now and again SageMath redefines a Python thing and this can cause confusion.\n",
    "\n",
    "The first example I can think of is `^` being interpreted as exponentiation rather than `xor`. This means you have:"
   ]
  },
  {
   "cell_type": "code",
   "execution_count": 3,
   "id": "1101c4c2",
   "metadata": {},
   "outputs": [],
   "source": [
    "assert 2**5 == 2^5"
   ]
  },
  {
   "cell_type": "markdown",
   "id": "da370379",
   "metadata": {},
   "source": [
    "To access `xor`, you now need to call `^^`. For example:"
   ]
  },
  {
   "cell_type": "code",
   "execution_count": 4,
   "id": "07531515",
   "metadata": {},
   "outputs": [],
   "source": [
    "assert 2^^2 == 0\n",
    "assert 1^^2 == 2^^1"
   ]
  }
 ],
 "metadata": {
  "kernelspec": {
   "display_name": "SageMath 10.2",
   "language": "sage",
   "name": "sagemath"
  },
  "language_info": {
   "codemirror_mode": {
    "name": "ipython",
    "version": 3
   },
   "file_extension": ".py",
   "mimetype": "text/x-python",
   "name": "python",
   "nbconvert_exporter": "python",
   "pygments_lexer": "ipython3",
   "version": "3.11.4"
  }
 },
 "nbformat": 4,
 "nbformat_minor": 5
}
