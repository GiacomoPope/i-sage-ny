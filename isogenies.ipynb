{
 "cells": [
  {
   "cell_type": "markdown",
   "id": "3851f4b6",
   "metadata": {},
   "source": [
    "# Isogenies\n",
    "\n",
    "**Note: due to the context of this being explained during Sage days, I assume you are all running the most up to date version of SageMath at the time of writing (version 10.2)**\n",
    "\n",
    "This notebook assumes you have already gone through, or are familiar with using elliptic curves in Sage. \n",
    "\n",
    "## Isomorphisms\n",
    "\n",
    "As we have done half the work here already, let us continue looking at elliptic curves and isogenies by first considering isomorphisms between curves and points.\n",
    "\n",
    "Unless otherwise stated, we will work with the following finite field and curve:"
   ]
  },
  {
   "cell_type": "code",
   "execution_count": 2,
   "id": "7e44dcda",
   "metadata": {},
   "outputs": [
    {
     "name": "stdout",
     "output_type": "stream",
     "text": [
      "E = Elliptic Curve defined by y^2 = x^3 + 6*x^2 + x over Finite Field in i of size 17915903^2\n",
      "P = (12772366*i + 5961474 : 5144390*i + 13478759 : 1)\n",
      "Q = (8260143*i + 518463 : 2768119*i + 4146976 : 1)\n"
     ]
    }
   ],
   "source": [
    "a, b = 13, 7\n",
    "p = 2^a * 3^b - 1\n",
    "F.<i> = GF(p**2, modulus=[1,0,1])\n",
    "\n",
    "E = EllipticCurve(F, [0, 6, 0, 1, 0])\n",
    "print(f\"{E = }\")\n",
    "P, Q = E.gens()\n",
    "print(f\"{P = }\")\n",
    "print(f\"{Q = }\")"
   ]
  },
  {
   "cell_type": "markdown",
   "id": "b66ec3ef",
   "metadata": {},
   "source": [
    "## Mapping to Short Weierstrass Form\n",
    "\n",
    "Let's first look at how we can map from the Montgomery model to a short Weierstrass curve."
   ]
  },
  {
   "cell_type": "code",
   "execution_count": 3,
   "id": "082a8ad7",
   "metadata": {},
   "outputs": [
    {
     "name": "stdout",
     "output_type": "stream",
     "text": [
      "Elliptic-curve morphism:\n",
      "  From: Elliptic Curve defined by y^2 = x^3 + 6*x^2 + x over Finite Field in i of size 17915903^2\n",
      "  To:   Elliptic Curve defined by y^2 = x^3 + 17901647*x + 653184 over Finite Field in i of size 17915903^2\n",
      "  Via:  (u,r,s,t) = (14929919, 17915901, 0, 0)\n"
     ]
    }
   ],
   "source": [
    "# Given the isomorphic curve in the Short Weierstrass model\n",
    "# we can compute the isomorphism with the isomorphism_to method\n",
    "E_short = E.short_weierstrass_model()\n",
    "iso_to_E_short = E.isomorphism_to(E_short)\n",
    "print(iso_to_E_short)"
   ]
  },
  {
   "cell_type": "code",
   "execution_count": 5,
   "id": "5882ab73",
   "metadata": {},
   "outputs": [
    {
     "name": "stdout",
     "output_type": "stream",
     "text": [
      "P_short = (11907601*i + 17538203 : 17513649*i + 8880245 : 1)\n",
      "Q_short = (10710700*i + 748837 : 11226998*i + 48334 : 1)\n",
      "P_short.curve() = Elliptic Curve defined by y^2 = x^3 + 17901647*x + 653184 over Finite Field in i of size 17915903^2\n"
     ]
    }
   ],
   "source": [
    "# We can also map points on one curve to another like so:\n",
    "P_short = iso_to_E_short(P)\n",
    "Q_short = iso_to_E_short(Q)\n",
    "print(f\"{P_short = }\")\n",
    "print(f\"{Q_short = }\")\n",
    "print(f\"{P_short.curve() = }\")"
   ]
  },
  {
   "cell_type": "markdown",
   "id": "1e8f955e",
   "metadata": {},
   "source": [
    "## Mapping to the Montgomery Model\n",
    "\n",
    "The above works for any two isomorphic curves. As long as `E.is_isomorphic(E_prime)` returns `True`, then `isomorphism_to()` will return the morphism between curves with a `domain` equal to `E` and `codomain` equal to `E_prime.`\n",
    "\n",
    "For mapping to the Montgomery model, there's actually an even easier method thanks to a relatively recent function. Let's see how it works. Calling the following function returns the correct codomain:"
   ]
  },
  {
   "cell_type": "code",
   "execution_count": 7,
   "id": "c3283163",
   "metadata": {},
   "outputs": [
    {
     "name": "stdout",
     "output_type": "stream",
     "text": [
      "E_mont = Elliptic Curve defined by y^2 = x^3 + 14772668*x^2 + x over Finite Field in i of size 17915903^2\n",
      "E_mont.is_isomorphic(E) = True\n"
     ]
    }
   ],
   "source": [
    "E_mont = E_short.montgomery_model()\n",
    "print(f\"{E_mont = }\")\n",
    "print(f\"{E_mont.is_isomorphic(E) = }\")"
   ]
  },
  {
   "cell_type": "markdown",
   "id": "f3ceb812",
   "metadata": {},
   "source": [
    "However, if we want the morphism between these two curves instead, we can use the following optional argument"
   ]
  },
  {
   "cell_type": "code",
   "execution_count": 10,
   "id": "70bb59be",
   "metadata": {},
   "outputs": [
    {
     "data": {
      "text/plain": [
       "Elliptic-curve morphism:\n",
       "  From: Elliptic Curve defined by y^2 = x^3 + 17901647*x + 653184 over Finite Field in i of size 17915903^2\n",
       "  To:   Elliptic Curve defined by y^2 = x^3 + 14772668*x^2 + x over Finite Field in i of size 17915903^2\n",
       "  Via:  (u,r,s,t) = (12422522, 16275630, 0, 0)"
      ]
     },
     "execution_count": 10,
     "metadata": {},
     "output_type": "execute_result"
    }
   ],
   "source": [
    "(E_mont, iso_to_mont) = E_short.montgomery_model(morphism=True)\n",
    "iso_to_mont"
   ]
  },
  {
   "cell_type": "markdown",
   "id": "c7196ffe",
   "metadata": {},
   "source": [
    "Now, instead of returning the codomain, we also get the isomorphism between curves. Just like the above, we can map points through this morphism"
   ]
  },
  {
   "cell_type": "code",
   "execution_count": 12,
   "id": "d5285b7c",
   "metadata": {},
   "outputs": [
    {
     "name": "stdout",
     "output_type": "stream",
     "text": [
      "iso_to_mont(P) = (323911*i + 10826241 : 7815892*i + 2464233 : 1)\n",
      "iso_to_mont(Q) = (6301774*i + 2588315 : 3816725*i + 219936 : 1)\n"
     ]
    }
   ],
   "source": [
    "print(f\"{iso_to_mont(P) = }\")\n",
    "print(f\"{iso_to_mont(Q) = }\")"
   ]
  },
  {
   "cell_type": "markdown",
   "id": "19d15d3e",
   "metadata": {},
   "source": [
    "## Isogenies from Points"
   ]
  },
  {
   "cell_type": "markdown",
   "id": "99d3b707",
   "metadata": {},
   "source": [
    "## Isogenies from Kernel Polynomials"
   ]
  },
  {
   "cell_type": "markdown",
   "id": "289634bb",
   "metadata": {},
   "source": [
    "## Isogenies Between Curves"
   ]
  },
  {
   "cell_type": "markdown",
   "id": "c3c0e0fe",
   "metadata": {},
   "source": [
    "## Smooth Degree Isogenies"
   ]
  },
  {
   "cell_type": "markdown",
   "id": "e46a6ab6",
   "metadata": {},
   "source": [
    "## Large Degree Isogenies"
   ]
  }
 ],
 "metadata": {
  "kernelspec": {
   "display_name": "SageMath 10.2",
   "language": "sage",
   "name": "sagemath"
  },
  "language_info": {
   "codemirror_mode": {
    "name": "ipython",
    "version": 3
   },
   "file_extension": ".py",
   "mimetype": "text/x-python",
   "name": "python",
   "nbconvert_exporter": "python",
   "pygments_lexer": "ipython3",
   "version": "3.11.4"
  }
 },
 "nbformat": 4,
 "nbformat_minor": 5
}
