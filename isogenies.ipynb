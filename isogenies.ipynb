{
 "cells": [
  {
   "cell_type": "markdown",
   "id": "3851f4b6",
   "metadata": {},
   "source": [
    "# Isogenies\n",
    "\n",
    "**Note: due to the context of this being explained during Sage days, I assume you are all running the most up to date version of SageMath at the time of writing (version 10.2)**\n",
    "\n",
    "This notebook assumes you have already gone through, or are familiar with using elliptic curves in Sage. \n",
    "\n",
    "## Isomorphisms"
   ]
  },
  {
   "cell_type": "markdown",
   "id": "19d15d3e",
   "metadata": {},
   "source": [
    "## Isogenies from Points"
   ]
  },
  {
   "cell_type": "markdown",
   "id": "99d3b707",
   "metadata": {},
   "source": [
    "## Isogenies from Kernel Polynomials"
   ]
  },
  {
   "cell_type": "markdown",
   "id": "289634bb",
   "metadata": {},
   "source": [
    "## Isogenies Between Curves"
   ]
  },
  {
   "cell_type": "markdown",
   "id": "c3c0e0fe",
   "metadata": {},
   "source": [
    "## Smooth Degree Isogenies"
   ]
  },
  {
   "cell_type": "markdown",
   "id": "e46a6ab6",
   "metadata": {},
   "source": [
    "## Large Degree Isogenies"
   ]
  }
 ],
 "metadata": {
  "kernelspec": {
   "display_name": "SageMath 10.2",
   "language": "sage",
   "name": "sagemath"
  },
  "language_info": {
   "codemirror_mode": {
    "name": "ipython",
    "version": 3
   },
   "file_extension": ".py",
   "mimetype": "text/x-python",
   "name": "python",
   "nbconvert_exporter": "python",
   "pygments_lexer": "ipython3",
   "version": "3.11.4"
  }
 },
 "nbformat": 4,
 "nbformat_minor": 5
}
