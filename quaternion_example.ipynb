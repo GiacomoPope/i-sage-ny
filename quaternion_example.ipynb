{
 "cells": [
  {
   "cell_type": "markdown",
   "metadata": {},
   "source": [
    "## Part Two: Quaternion Algebras\n",
    "\n",
    "In this part of the tutorial we will explore quaternion algebras, maximal orders and fractional ideals in SageMath, and their use in isogeny-based cryptography.\n",
    "\n",
    "Fix $p = 45319$. We'll work with the quaternion algebra $\\mathcal{B}_{p, \\infty}$, the unique quaternion algebra over $\\mathbb{Q}$ (up to isomorphism) ramified exactly at $p$ and $\\infty$, i.e., \n",
    "\n",
    "$$\n",
    "    \\mathcal{B}_{p, \\infty} = \\mathbb{Q} + i\\mathbb{Q} + j \\mathbb{Q} + k\\mathbb{Q},\n",
    "$$\n",
    "where $i^2 = -1$, $j^2 = -p$ and $k = ij = -ji$.\n",
    "\n",
    "\n",
    "\n",
    "#### First step: setting up\n",
    "Let's set up this quaternion algebra using SageMath."
   ]
  },
  {
   "cell_type": "code",
   "execution_count": null,
   "metadata": {},
   "outputs": [],
   "source": [
    "p = 45319\n",
    "Bpinf = QuaternionAlgebra(QQ, -1, -p)\n",
    "i,j,k = Bpinf.gens()\n",
    "\n",
    "\n",
    "print(f\"{Bpinf = }\\n\")\n",
    "print(f\"{Bpinf.ramified_primes() = }\\n\")\n",
    "\n",
    "print(f\"{Bpinf.invariants() = }\")\n",
    "print(f\"i^2 = {i^2}\")\n",
    "print(f\"j^2 = {j^2}\\n\")\n",
    "\n",
    "print(f\"Checking that i*j equals -j*i: {i*j == -j*i = }\")\n",
    "print(f\"Checking that i*j equals k: {i*j == k = }\")"
   ]
  },
  {
   "cell_type": "markdown",
   "metadata": {},
   "source": [
    "#### Alternative way to setup\n",
    "The quaternion algebra can also be instantiated using its *discriminant* $D = p$. "
   ]
  },
  {
   "cell_type": "code",
   "execution_count": null,
   "metadata": {},
   "outputs": [],
   "source": [
    "Bpinf_alt = QuaternionAlgebra(p)\n",
    "print(f\"Checking that Bpinf and Bpinf_alt are equivalent: {Bpinf == Bpinf_alt = }\")"
   ]
  },
  {
   "cell_type": "markdown",
   "metadata": {},
   "source": [
    "#### Elements of the quaternion algebra\n",
    "\n",
    "Let's explore the elements of $\\mathcal{B}_{p, \\infty}$. \n",
    "\n",
    "For an element $\\alpha \\in \\mathcal{B}_{p, \\infty}$ where\n",
    "$$\n",
    "\\alpha = \\alpha_1 + \\alpha_2 i + \\alpha_3 j + \\alpha_4 k,\n",
    "$$\n",
    "the conjugate is given by\n",
    "$$\n",
    "    \\bar{\\alpha} = \\alpha_1 - \\alpha_2 i - \\alpha_3  j - \\alpha_4  k.\n",
    "$$\n",
    "The reduced norm is given by \n",
    "$$\n",
    "n(\\alpha) = \\alpha\\cdot \\bar{\\alpha},\n",
    "$$\n",
    "and the reduced trace is given by \n",
    "$$\n",
    "tr(\\alpha) = \\alpha + \\bar{\\alpha},\n",
    "$$"
   ]
  },
  {
   "cell_type": "code",
   "execution_count": null,
   "metadata": {},
   "outputs": [],
   "source": [
    "alpha = Bpinf.random_element()\n",
    "alpha_bar = alpha.conjugate()\n",
    "\n",
    "print(f\"{alpha = }\")\n",
    "# We can use the function .coefficient_tuple to extract the coefficients of alpha\n",
    "print(f\"{alpha.coefficient_tuple() = }\")\n",
    "\n",
    "print(f\"{alpha_bar = }\\n\")\n",
    "\n",
    "alpha_norm = alpha.reduced_norm()\n",
    "print(f\"n(alpha) = {alpha_norm}\")\n",
    "print(f\"Checking norm formula is correct: {alpha*alpha_bar == alpha_norm = }\\n\")\n",
    "\n",
    "alpha_trace = alpha.reduced_trace()\n",
    "print(f\"tr(alpha) = {alpha_trace}\")\n",
    "print(f\"Checking trace formula is correct: {alpha + alpha_bar == alpha_trace = }\")"
   ]
  },
  {
   "cell_type": "markdown",
   "metadata": {},
   "source": [
    "#### Next step: setting up a maximal order\n",
    "\n",
    "The Deuring correspondence tells us that supersingular $j$-invaraints $j(E)$ over $\\mathbb{F}_{p^2}$ are in one-to-one correspondence with maximal orders $\\mathcal{O}$ in $\\mathcal{B}_{p, \\infty}$ via the isomorphism\n",
    "\n",
    "$$\n",
    "    \\text{End}(E) \\xrightarrow{\\sim} \\mathcal{O} \n",
    "$$\n"
   ]
  },
  {
   "cell_type": "markdown",
   "metadata": {},
   "source": [
    "#### A concrete example\n",
    "\n",
    "Define the supersingular elliptic curve $E_0 : y^2 = x^3 + x$ over $\\mathbb{F}_{p^2}$. Here, $j(E_0) = 1728$.\n",
    "\n",
    "Then, the endomorphism ring of this curve is isomorphic to the maximal order \n",
    "\n",
    "$$\n",
    "    \\mathcal{O}_0 = \\Big\\langle 1, i, \\frac{i+j}{2}, \\frac{1+k}{2} \\Big\\rangle\n",
    "$$"
   ]
  },
  {
   "cell_type": "code",
   "execution_count": null,
   "metadata": {},
   "outputs": [],
   "source": [
    "print(f\"Constructing the elliptic curve...\\n\")\n",
    "F = GF(p^2, name=\"z2\", modulus=x^2 + 1)\n",
    "z2 = F.gen()\n",
    "E0 = EllipticCurve(F, [1, 0])\n",
    "\n",
    "print(f\"{E0 = }\")\n",
    "print(f\"j(E0) = {E0.j_invariant()}\")"
   ]
  },
  {
   "cell_type": "code",
   "execution_count": null,
   "metadata": {},
   "outputs": [],
   "source": [
    "\n",
    "print(f\"Constructing the maximal order O0...\\n\")\n",
    "\n",
    "O0_basis = [1, i, (i+j)/2, (1+k)/2]\n",
    "O0 = Bpinf.quaternion_order(O0_basis)\n",
    "\n",
    "print(f\"Checking that O0 is maximal using the discriminant: {O0.discriminant() == p = }\")\n",
    "## Here we note that there seems to be no direct in-built function that checks if an order in maximal in the quaternion algebra.\n",
    "\n",
    "\n",
    "print(f\"Checking the basis of O0: {O0.basis() = }\")"
   ]
  },
  {
   "cell_type": "markdown",
   "metadata": {},
   "source": [
    "#### Next step: integral ideals in maximal orders\n",
    "\n",
    "$$\n",
    "I = x_1\\mathbb{Z} + x_2\\mathbb{Z} + x_3\\mathbb{Z} + x_4\\mathbb{Z},\n",
    "$$\n",
    "where \n",
    "$$\n",
    "x_1 = \\frac{1}{2} + \\frac{21}{2}k, \\ \\ \\ x_2 = \\frac{1}{2}i + \\frac{1}{2}j + 5k, \\ \\ \\ x_3 = j + 4k, \\ \\ \\ x_4 = 16k,\n",
    "$$\n",
    "\n",
    "is an integral left ideal of $\\mathcal{O}_0$. \n",
    "\n",
    "By the Deuring correspondence, $I$ corresponds to an isogeny $\\phi$ of degree $n(I) = 4$ from $E_0$ to some supersingular elliptic curve $E_1/\\mathbb{F}_{p^2}$, where $\\text{End}(E_1) \\cong \\mathcal{O}_1$ and $I$ is a $\\mathcal{O}_1$-right ideal. Such an ideal is called a connecting $(\\mathcal{O}_0, \\mathcal{O}_1)$-ideal.\n",
    "\n",
    "The conjugate $\\bar{I}$ of the ideal $I$ will correspond to the dual isogeny $\\hat{\\phi}$. In this way, $\\bar{I}$ is a connecting $(\\mathcal{O}_1, \\mathcal{O}_0)$-ideal."
   ]
  },
  {
   "cell_type": "code",
   "execution_count": null,
   "metadata": {},
   "outputs": [],
   "source": [
    "## We note here that there is no random fractional ideal generator but we can generate a fractional ideal as\n",
    "I_basis = [1/2 + 21/2*k, 1/2*i + 1/2*j + 5*k, j + 4*k, 16*k]\n",
    "I = O0.left_ideal(I_basis)\n",
    "\n",
    "print(f\"{I = }\")\n",
    "print(f\"{I in O0}\")\n",
    "\n",
    "print(f\"n(I) = {I.norm()}. This will be the degree of the corresponding isogeny.\")\n",
    "\n",
    "O1 = I.right_order()\n",
    "print()\n",
    "print(f\"{O1 = }.\\nI is a right O1-ideal.\\n\")\n",
    "\n",
    "I_bar = I.conjugate()\n",
    "print(f\"Conjugate of I is {I_bar = }\")\n",
    "\n",
    "O0_bar = I_bar.right_order()\n",
    "O1_bar = I_bar.left_order()\n",
    "\n",
    "print(f\"Checking that I_bar is a connecting (O1, O0)-ideal...\")\n",
    "print(f\"{O0_bar == O0 = }\")\n",
    "print(f\"{O1_bar == O1 = }\")"
   ]
  },
  {
   "cell_type": "markdown",
   "metadata": {},
   "source": [
    "**Remark:** In Sage Math, there is no random fractional ideal sampler."
   ]
  },
  {
   "cell_type": "markdown",
   "metadata": {},
   "source": [
    "#### Next step: equivalent ideals\n",
    "\n",
    "Consider two integral ideals $I,J$ with left order $\\mathcal{O}_0$ with bases\n",
    "$$\n",
    "    \\langle \\frac{1}{2} + \\frac{1}{2}i + \\frac{475384310765838629}{2}j + \\frac{335298457744347701}{2}k, i + 70042926510745464j + 405341384255093165k , 243016733953393400j + 243016733953393400k, 486033467906786800k \\rangle,\n",
    "$$\n",
    "and\n",
    "$$\n",
    "    \\langle \\frac{1}{2} + 2825814j + \\frac{1880109}{2}k, \\frac{1}{2}i + \\frac{4381057}{2}j + 2825814k, 3130583j, 3130583k\\rangle, \n",
    "$$\n",
    "respectively. \n",
    "\n",
    "$I$ and $J$ are *equivalent* right ideals. This means that they will correspond to isogenies \n",
    "\n",
    "$$\n",
    "\\phi_I: E_0 \\rightarrow E_2, \\\\\n",
    "\\phi_J: E_0 \\rightarrow E_2.\n",
    "$$\n",
    "\n",
    "Indeed, they are both connecting $(\\mathcal{O}_0, \\mathcal{O}_2)$-ideals, where $\\mathcal{O}_2 \\cong \\text{End}(E_2)$, and \n",
    "\n",
    "$$\n",
    "I = J\\beta,\n",
    "$$\n",
    "\n",
    "for some $\\beta \\in \\mathcal{B}_{p, \\infty}^\\times$."
   ]
  },
  {
   "cell_type": "code",
   "execution_count": null,
   "metadata": {},
   "outputs": [],
   "source": [
    "I_basis = [1/2 + 1/2*i + 475384310765838629/2*j + 335298457744347701/2*k, i + 70042926510745464*j + 405341384255093165*k, 243016733953393400*j + 243016733953393400*k, 486033467906786800*k]\n",
    "I = O0.left_ideal(I_basis)\n",
    "\n",
    "print(f\"{I = }\")\n",
    "print(f\"n(I) = {I.norm().factor()}\\n\")\n",
    "\n",
    "J_basis = [1/2 + 2825814*j + 1880109/2*k, 1/2*i + 4381057/2*j + 2825814*k, 3130583*j, 3130583*k]\n",
    "J = O0.left_ideal(J_basis)\n",
    "print(f\"{J = }\")\n",
    "print(f\"n(I) = {J.norm().factor()}\\n\")\n",
    "\n",
    "# The is_equivalent ideal only works for right ideals so we have to take conjugates...\n",
    "print(f\"Checking I, J are equivalent left ideals? {I.conjugate().is_equivalent(J.conjugate()) = }\")\n",
    "print(f\"Same left order? {I.left_order() == J.left_order()}\")\n",
    "print(f\"Same right orders? {I.left_order() == J.left_order()}\\n\")\n",
    "\n",
    "\n",
    "print(f\"To compute beta, we first need to compute the inverse of J as 'conjugate divided by the norm':\")\n",
    "J_inv = J.conjugate().scale(1/J.norm())\n",
    "print(f\"{J_inv = }\")\n",
    "print(f\"Checking we have the inverse: {J*J_inv == O0.unit_ideal() = }\\n\")\n",
    "beta = J_inv*I\n",
    "print(f\"{beta = }\")\n",
    "print(f\"Checking relation between I,J, beta: {I == J*beta = }\")"
   ]
  },
  {
   "cell_type": "markdown",
   "metadata": {},
   "source": [
    "Note that $J$ has a large prime norm, whereas $I$'s norm is *powersmooth*. This means that $\\phi_I$ will be much more efficient to compute that $\\phi_J$. Given $J$, finding an equivalent ideal $I$ with powersmooth norm can be done using KLPT. This would be useful to implement into Sage Math. "
   ]
  },
  {
   "cell_type": "markdown",
   "metadata": {},
   "source": [
    "#### Useful aside\n",
    "\n",
    "A useful function, in the context of SQIsign is the intersection function, which computes $I \\cap J$."
   ]
  },
  {
   "cell_type": "code",
   "execution_count": null,
   "metadata": {},
   "outputs": [],
   "source": [
    "I.intersection(J)"
   ]
  },
  {
   "cell_type": "markdown",
   "metadata": {},
   "source": [
    "#### Quick remark: elements of orders and ideals\n",
    "\n",
    "The functionality available for elements of quaternion algebras is also available for elements of quaternion orders and ideals."
   ]
  }
 ],
 "metadata": {
  "kernelspec": {
   "display_name": "SageMath 10.1",
   "language": "sage",
   "name": "SageMath-10.1"
  },
  "language_info": {
   "codemirror_mode": {
    "name": "ipython",
    "version": 3
   },
   "file_extension": ".py",
   "mimetype": "text/x-python",
   "name": "python",
   "nbconvert_exporter": "python",
   "pygments_lexer": "ipython3",
   "version": "3.11.1"
  }
 },
 "nbformat": 4,
 "nbformat_minor": 2
}
