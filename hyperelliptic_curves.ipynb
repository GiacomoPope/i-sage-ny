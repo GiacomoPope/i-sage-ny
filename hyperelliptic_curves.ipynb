{
 "cells": [
  {
   "cell_type": "markdown",
   "id": "da2d6f7f",
   "metadata": {},
   "source": [
    "# Hyperelliptic Curves\n",
    "\n",
    "**Note: due to the context of this being explained during Sage days, I assume you are all running the most up to date version of SageMath at the time of writing (version 10.2)**\n",
    "\n",
    "This notebook assumes you have already gone through, or are familiar with using elliptic curves in Sage. For those who need more information or a refresher, see the `elliptic_curves` notebook. "
   ]
  },
  {
   "cell_type": "markdown",
   "id": "cbc01c92",
   "metadata": {},
   "source": [
    "## Defining Curves\n",
    "\n",
    "TODO: show different curves of various genus. Show what functions are avaialble and hint at what's missing compared to Magma?"
   ]
  },
  {
   "cell_type": "markdown",
   "id": "3b6f1d0d",
   "metadata": {},
   "source": [
    "## Jacobians of Hyperelliptic Curves\n",
    "\n",
    "TODO: How to construct a Jacobian. How the group law works. Little about Mumford representations, polynomial rings, etc. "
   ]
  },
  {
   "cell_type": "markdown",
   "id": "a7bc7b97",
   "metadata": {},
   "source": [
    "## Richelot Isogeny\n",
    "\n",
    "TODO: maybe i wont have time for this, but we could include it as something manual and something which cuould be included?"
   ]
  }
 ],
 "metadata": {
  "kernelspec": {
   "display_name": "SageMath 10.2",
   "language": "sage",
   "name": "sagemath"
  },
  "language_info": {
   "codemirror_mode": {
    "name": "ipython",
    "version": 3
   },
   "file_extension": ".py",
   "mimetype": "text/x-python",
   "name": "python",
   "nbconvert_exporter": "python",
   "pygments_lexer": "ipython3",
   "version": "3.11.4"
  }
 },
 "nbformat": 4,
 "nbformat_minor": 5
}
