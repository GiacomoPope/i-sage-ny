{
 "cells": [
  {
   "cell_type": "markdown",
   "id": "da2d6f7f",
   "metadata": {},
   "source": [
    "# Hyperelliptic Curves\n",
    "\n",
    "**Note: due to the context of this being explained during Sage days, I assume you are all running the most up to date version of SageMath at the time of writing (version 10.2)**\n",
    "\n",
    "This notebook assumes you have already gone through, or are familiar with using elliptic curves in Sage. For those who need more information or a refresher, see the `elliptic_curves` notebook. \n",
    "\n",
    "For the following, we will fix out finite field and polynomial ring:"
   ]
  },
  {
   "cell_type": "code",
   "execution_count": 5,
   "id": "55a0cf16",
   "metadata": {},
   "outputs": [],
   "source": [
    "p = 1009\n",
    "F = GF(p)\n",
    "R.<x> = PolynomialRing(F)"
   ]
  },
  {
   "cell_type": "markdown",
   "id": "cbc01c92",
   "metadata": {},
   "source": [
    "## Defining Curves\n",
    "\n",
    "To define the hyperelliptic curve $y^2 + h y = f$, we pass as arguments $f, h$ which are univariate polynomials in $x$ of the appropriate degree."
   ]
  },
  {
   "cell_type": "code",
   "execution_count": 6,
   "id": "0f151a15",
   "metadata": {},
   "outputs": [
    {
     "name": "stdout",
     "output_type": "stream",
     "text": [
      "H1 = Hyperelliptic Curve over Finite Field of size 1009 defined by y^2 = x^5 + x + 1\n",
      "H2 = Hyperelliptic Curve over Finite Field of size 1009 defined by y^2 + (x + 1)*y = x^5 + x + 1\n"
     ]
    }
   ],
   "source": [
    "f = x^5 + x + 1\n",
    "h = x + 1\n",
    "\n",
    "H1 = HyperellipticCurve(f)\n",
    "print(f\"{H1 = }\")\n",
    "\n",
    "H2 = HyperellipticCurve(f, h)\n",
    "print(f\"{H2 = }\")"
   ]
  },
  {
   "cell_type": "markdown",
   "id": "6f39e9be",
   "metadata": {},
   "source": [
    "### Odd Degree Models\n",
    "\n",
    "For curves with $h(x) = 0$ and $\\deg(f) % 2 = 0$, you can ask SageMath to compute the odd degree model with a simple call:"
   ]
  },
  {
   "cell_type": "code",
   "execution_count": 7,
   "id": "75b4d45e",
   "metadata": {},
   "outputs": [
    {
     "name": "stdout",
     "output_type": "stream",
     "text": [
      "H_even = Hyperelliptic Curve over Finite Field of size 1009 defined by y^2 = x^10 + x^5 + 1\n",
      "H_odd = Hyperelliptic Curve over Finite Field of size 1009 defined by y^2 = 153*x^9 + 696*x^8 + 109*x^7 + 353*x^6 + 412*x^5 + 961*x^4 + 120*x^3 + 686*x^2 + 286*x + 1\n"
     ]
    }
   ],
   "source": [
    "f = x^10 + x^5 + 1\n",
    "H_even = HyperellipticCurve(f)\n",
    "H_odd = H_even.odd_degree_model()\n",
    "print(f\"{H_even = }\")\n",
    "print(f\"{H_odd = }\")\n"
   ]
  },
  {
   "cell_type": "markdown",
   "id": "f6b34c8e",
   "metadata": {},
   "source": [
    "### Computing the Genus\n",
    "\n",
    "Sage allows for the computation of both the geometric and arithmetic genus. By default, `H.genus()` returns the geometric genus. "
   ]
  },
  {
   "cell_type": "code",
   "execution_count": 14,
   "id": "dfa71ff9",
   "metadata": {
    "scrolled": true
   },
   "outputs": [
    {
     "name": "stdout",
     "output_type": "stream",
     "text": [
      "H.genus() = 2\n",
      "H.geometric_genus() = 2\n",
      "H.arithmetic_genus() = 6\n"
     ]
    }
   ],
   "source": [
    "f = x^5 + x^2 + 1\n",
    "H = HyperellipticCurve(f)\n",
    "print(f\"{H.genus() = }\")\n",
    "print(f\"{H.geometric_genus() = }\")\n",
    "print(f\"{H.arithmetic_genus() = }\")"
   ]
  },
  {
   "cell_type": "markdown",
   "id": "ebd88f53",
   "metadata": {},
   "source": [
    "## Computing Invariants\n",
    "\n",
    "Sage also allows the computation of various invariants, although as the genus of the curve increases the functionality drops off. \n",
    "\n",
    "**TODO**: See for example the request for the Dixmier Ohno invariants for planar quartics in the wishlist"
   ]
  },
  {
   "cell_type": "code",
   "execution_count": 16,
   "id": "88fbac3c",
   "metadata": {},
   "outputs": [
    {
     "name": "stdout",
     "output_type": "stream",
     "text": [
      "H.igusa_clebsch_invariants() = (0, 116, 867, 945)\n",
      "H.absolute_igusa_invariants_kohel() = (888, 0, 0)\n",
      "H.absolute_igusa_invariants_wamelen() = (0, 0, 0)\n"
     ]
    }
   ],
   "source": [
    "print(f\"{H.igusa_clebsch_invariants() = }\")\n",
    "print(f\"{H.absolute_igusa_invariants_kohel() = }\")\n",
    "print(f\"{H.absolute_igusa_invariants_wamelen() = }\")"
   ]
  },
  {
   "cell_type": "markdown",
   "id": "cb9952ba",
   "metadata": {},
   "source": [
    "## Points on Curves\n",
    "\n",
    "Just as with elliptic curves, we can ask for all points on the curve by requesting `H.points()`. Sage also has a `H.count_points()` but under the hood for almost all cases is simply an exhaustive search, so this will get REALLY slow. There is a special case for $\\mathbb{F}_p$ when $h(x) = 0$ and $f(x)$ has odd degree."
   ]
  },
  {
   "cell_type": "code",
   "execution_count": 8,
   "id": "e354eae4",
   "metadata": {
    "scrolled": true
   },
   "outputs": [
    {
     "name": "stdout",
     "output_type": "stream",
     "text": [
      "2.96 ms ± 112 µs per loop (mean ± std. dev. of 7 runs, 100 loops each)\n",
      "1.59 ms ± 107 µs per loop (mean ± std. dev. of 7 runs, 1,000 loops each)\n"
     ]
    }
   ],
   "source": [
    "f = x^6 + x + 1\n",
    "H1 = HyperellipticCurve(f)\n",
    "H2 = H1.odd_degree_model() # Using the odd degree model for this case will be faster\n",
    "\n",
    "%timeit H1.count_points()\n",
    "%timeit H2.count_points()"
   ]
  },
  {
   "cell_type": "markdown",
   "id": "4144c755",
   "metadata": {},
   "source": [
    "**TODO**: Something which is currently missing is a way to sample a random point on the curve. This is something which probably should be included and might be a fun first addition for someone this week? The function `H.lift_x()` is available, so the trick for a `random_point()` could closely match the elliptic curve random point."
   ]
  },
  {
   "cell_type": "markdown",
   "id": "3b6f1d0d",
   "metadata": {},
   "source": [
    "## Jacobians of Hyperelliptic Curves\n",
    "\n",
    "Computing the Jacobian given a hyperelliptic curve is as easy as calling the `.jacobian()` method on the curve object."
   ]
  },
  {
   "cell_type": "code",
   "execution_count": 9,
   "id": "27bc62d8",
   "metadata": {},
   "outputs": [],
   "source": [
    "f = x^5 + x^2 + 1\n",
    "H = HyperellipticCurve(f)\n",
    "J = H.jacobian()"
   ]
  },
  {
   "cell_type": "markdown",
   "id": "ef8bf07d",
   "metadata": {},
   "source": [
    "We can compute elements with by wrapping points on the curve or by writing the Mumford polynomials explicitly:"
   ]
  },
  {
   "cell_type": "code",
   "execution_count": 12,
   "id": "96440d30",
   "metadata": {},
   "outputs": [
    {
     "name": "stdout",
     "output_type": "stream",
     "text": [
      "P = (1 : 149 : 1)\n",
      "D1 = (x + 1008, y + 860)\n",
      "D2 = (x + 884, y + 48)\n"
     ]
    }
   ],
   "source": [
    "P = H.lift_x(1)\n",
    "print(f\"{P = }\")\n",
    "\n",
    "D1 = J(P)\n",
    "D2 = J(x + 884, 961)\n",
    "print(f\"{D1 = }\")\n",
    "print(f\"{D2 = }\")"
   ]
  },
  {
   "cell_type": "markdown",
   "id": "dcc20b6e",
   "metadata": {},
   "source": [
    "**TODO**: Again, there's no way to ask for a random element of the Jacobian. This could be included in a PR which adds random points on hyperelliptic curves or as a separate PR depending on how things are going.\n",
    "\n",
    "## Higher genus isogenies\n",
    "\n",
    "There's nothing implemented, but there's a lot of items about this on the wishlist, so let's change this!!"
   ]
  }
 ],
 "metadata": {
  "kernelspec": {
   "display_name": "SageMath 10.2",
   "language": "sage",
   "name": "sagemath"
  },
  "language_info": {
   "codemirror_mode": {
    "name": "ipython",
    "version": 3
   },
   "file_extension": ".py",
   "mimetype": "text/x-python",
   "name": "python",
   "nbconvert_exporter": "python",
   "pygments_lexer": "ipython3",
   "version": "3.11.4"
  }
 },
 "nbformat": 4,
 "nbformat_minor": 5
}
